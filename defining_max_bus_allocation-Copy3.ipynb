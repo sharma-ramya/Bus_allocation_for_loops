{
 "cells": [
  {
   "cell_type": "code",
   "execution_count": 40,
   "metadata": {},
   "outputs": [],
   "source": [
    "import pandas as pd\n",
    "import csv\n",
    "import time\n",
    "import datetime as dt\n",
    "import numpy as np"
   ]
  },
  {
   "cell_type": "code",
   "execution_count": 48,
   "metadata": {},
   "outputs": [],
   "source": [
    "read_data = pd.read_csv('~/Research/Milind_Sohni_Research/data/cycles_shpr_sample.csv', delimiter = ',')\n"
   ]
  },
  {
   "cell_type": "code",
   "execution_count": 54,
   "metadata": {},
   "outputs": [],
   "source": [
    "class Bus:\n",
    "    \"\"\"A class to define how many buses we need\n",
    "    bus_no defines the number of the bus being used\n",
    "    list_of_loops provides the index number of the loop\n",
    "    this bus will travel on\n",
    "    end_time provides the end time of the travel the bus \n",
    "    has done, i.e at what time bus will be free for another loop\"\"\"\n",
    "    \n",
    "    bus_no = 0\n",
    "    list_of_loops = []\n",
    "    end_time = dt.datetime(1900,1,1,0,0,0)\n",
    "    \n",
    "    def __init__(self, bus_no, end_time):\n",
    "        \"\"\"Initialize the bus_no and its end_time when you are declaring \n",
    "        a new bus is to be added to the system\"\"\"\n",
    "        self.bus_no = bus_no\n",
    "        self.end_time = end_time\n",
    "        "
   ]
  },
  {
   "cell_type": "code",
   "execution_count": 55,
   "metadata": {},
   "outputs": [],
   "source": [
    "#for converting a string object to time object so that it can be used for future refernces\n",
    "read_data['arrival_time']= pd.to_datetime(read_data['arrival_time'], format= '%H:%M:%S' )\n",
    "read_data['departure_time']= (pd.to_datetime(read_data['departure_time'], format= '%H:%M:%S' ))\n"
   ]
  },
  {
   "cell_type": "code",
   "execution_count": 56,
   "metadata": {},
   "outputs": [],
   "source": [
    "list_of_buses = []\n",
    "\n",
    "list_of_buses.append(Bus(0,read_data.iloc[0,5]))\n",
    "#adding 0 to the list of loops this bus is running on\n",
    "list_of_buses[0].list_of_loops.append(0)\n"
   ]
  },
  {
   "cell_type": "code",
   "execution_count": 57,
   "metadata": {},
   "outputs": [
    {
     "name": "stdout",
     "output_type": "stream",
     "text": [
      "0 1900-01-01 05:15:00\n",
      "Bus number= 0\n"
     ]
    }
   ],
   "source": [
    "for bus in list_of_buses:\n",
    "    print(bus.bus_no,bus.end_time)\n",
    "    for bus_no in bus.list_of_loops:\n",
    "        print('Bus number=', bus_no)"
   ]
  },
  {
   "cell_type": "code",
   "execution_count": 58,
   "metadata": {},
   "outputs": [
    {
     "name": "stdout",
     "output_type": "stream",
     "text": [
      "False\n",
      "else\n",
      "[0, 0]\n",
      "False\n",
      "else\n",
      "False\n",
      "else\n",
      "[0, 0, 1]\n",
      "True\n",
      "Bus number= [0, 0, 1, 2]\n",
      "\n",
      "checkpoint\n",
      "\n",
      "False\n",
      "else\n",
      "True\n",
      "Bus number= [0, 0, 1, 2, 3]\n",
      "\n",
      "checkpoint\n",
      "\n",
      "False\n",
      "else\n",
      "False\n",
      "else\n",
      "True\n",
      "Bus number= [0, 0, 1, 2, 3, 4]\n",
      "\n",
      "checkpoint\n",
      "\n"
     ]
    }
   ],
   "source": [
    "i=0\n",
    "for itrdata in read_data.index:\n",
    "    \n",
    "    for bus in list_of_buses:\n",
    "        print(read_data.iloc[i,4] >= bus.end_time)\n",
    "        if(read_data.iloc[i,4] >= bus.end_time):\n",
    "            bus.end_time = read_data.iloc[i,5]\n",
    "            bus.list_of_loops.append(i)\n",
    "            checkpoint = 0\n",
    "            print('checkpoint')\n",
    "            \n",
    "        else:\n",
    "            \n",
    "            checkpoint = 1\n",
    "        \n",
    "    if (checkpoint == 1):\n",
    "        list_of_buses.append(Bus(i,read_data.iloc[i,5]))\n",
    "        list_of_buses[-1].list_of_loops.append(i)\n",
    "        print(list_of_buses[j].list_of_loops)\n",
    "    i=i+1"
   ]
  },
  {
   "cell_type": "code",
   "execution_count": 60,
   "metadata": {},
   "outputs": [
    {
     "name": "stdout",
     "output_type": "stream",
     "text": [
      "0 1900-01-01 10:00:00\n",
      "Bus number= [0, 0, 1, 2, 3, 4]\n",
      "0 1900-01-01 07:05:00\n",
      "Bus number= [0, 0, 1, 2, 3, 4]\n",
      "1 1900-01-01 11:45:00\n",
      "Bus number= [0, 0, 1, 2, 3, 4]\n"
     ]
    }
   ],
   "source": [
    "for bus in list_of_buses:\n",
    "    print(bus.bus_no,bus.end_time)\n",
    "    print('Bus number=', bus.list_of_loops)"
   ]
  },
  {
   "cell_type": "code",
   "execution_count": 39,
   "metadata": {},
   "outputs": [],
   "source": [
    "list_of_buses.clear()"
   ]
  },
  {
   "cell_type": "code",
   "execution_count": null,
   "metadata": {},
   "outputs": [],
   "source": []
  }
 ],
 "metadata": {
  "kernelspec": {
   "display_name": "Python 3",
   "language": "python",
   "name": "python3"
  },
  "language_info": {
   "codemirror_mode": {
    "name": "ipython",
    "version": 3
   },
   "file_extension": ".py",
   "mimetype": "text/x-python",
   "name": "python",
   "nbconvert_exporter": "python",
   "pygments_lexer": "ipython3",
   "version": "3.6.5"
  }
 },
 "nbformat": 4,
 "nbformat_minor": 2
}
