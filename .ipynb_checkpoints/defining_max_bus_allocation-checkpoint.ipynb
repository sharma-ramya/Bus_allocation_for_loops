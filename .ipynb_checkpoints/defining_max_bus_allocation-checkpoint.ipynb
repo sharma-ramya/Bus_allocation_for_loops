{
 "cells": [
  {
   "cell_type": "code",
   "execution_count": 50,
   "metadata": {},
   "outputs": [],
   "source": [
    "import pandas as pd\n",
    "import csv\n",
    "import time\n",
    "import datetime as dt\n",
    "import numpy as np"
   ]
  },
  {
   "cell_type": "code",
   "execution_count": 53,
   "metadata": {},
   "outputs": [],
   "source": [
    "read_data = pd.read_csv('~/Research/Milind_Sohni_Research/data/cycles_shpr_sample.csv', delimiter = ',')\n"
   ]
  },
  {
   "cell_type": "code",
   "execution_count": 54,
   "metadata": {},
   "outputs": [],
   "source": [
    "class Bus:\n",
    "    \"\"\"A class to define how many buses we need\n",
    "    bus_no defines the number of the bus being used\n",
    "    list_of_loops provides the index number of the loop\n",
    "    this bus will travel on\n",
    "    end_time provides the end time of the travel the bus \n",
    "    has done, i.e at what time bus will be free for another loop\"\"\"\n",
    "    \n",
    "    bus_no = 0\n",
    "    list_of_loops = []\n",
    "    end_time = dt.datetime(1900,1,1,0,0,0)\n",
    "    \n",
    "    def __init__(self, bus_no, end_time):\n",
    "        \"\"\"Initialize the bus_no and its end_time when you are declaring \n",
    "        a new bus is to be added to the system\"\"\"\n",
    "        self.bus_no = bus_no\n",
    "        self.end_time = end_time\n",
    "        "
   ]
  },
  {
   "cell_type": "code",
   "execution_count": 55,
   "metadata": {},
   "outputs": [
    {
     "name": "stdout",
     "output_type": "stream",
     "text": [
      "[<__main__.Bus object at 0x7fed164b2710>]\n"
     ]
    }
   ],
   "source": [
    "list_of_buses = []\n",
    "\n",
    "list_of_buses.append(Bus(1,read_data.iloc[0,5]))\n",
    "#adding 0 to the list of loops this bus is running on\n",
    "list_of_buses[0].list_of_loops.append(0)\n",
    "print(list_of_buses)"
   ]
  },
  {
   "cell_type": "code",
   "execution_count": 56,
   "metadata": {},
   "outputs": [
    {
     "name": "stdout",
     "output_type": "stream",
     "text": [
      "<class 'pandas.core.frame.DataFrame'>\n",
      "RangeIndex: 9 entries, 0 to 8\n",
      "Data columns (total 6 columns):\n",
      "scheduleid        9 non-null int64\n",
      "cycle             9 non-null int64\n",
      "s_eng             9 non-null object\n",
      "d_eng             9 non-null object\n",
      "departure_time    9 non-null datetime64[ns]\n",
      "arrival_time      9 non-null datetime64[ns]\n",
      "dtypes: datetime64[ns](2), int64(2), object(2)\n",
      "memory usage: 512.0+ bytes\n"
     ]
    }
   ],
   "source": [
    "#for converting a string object to time object so that it can be used for future refernces\n",
    "read_data['arrival_time']= pd.to_datetime(read_data['arrival_time'], format= '%H:%M:%S' )\n",
    "read_data['departure_time']= (pd.to_datetime(read_data['departure_time'], format= '%H:%M:%S' ))\n",
    "read_data.info()"
   ]
  },
  {
   "cell_type": "code",
   "execution_count": 20,
   "metadata": {},
   "outputs": [
    {
     "name": "stdout",
     "output_type": "stream",
     "text": [
      "1900-01-01 05:15:00\n"
     ]
    }
   ],
   "source": [
    "print (read_data.iloc[0,5] )"
   ]
  },
  {
   "cell_type": "code",
   "execution_count": 57,
   "metadata": {},
   "outputs": [
    {
     "data": {
      "text/html": [
       "<div>\n",
       "<style scoped>\n",
       "    .dataframe tbody tr th:only-of-type {\n",
       "        vertical-align: middle;\n",
       "    }\n",
       "\n",
       "    .dataframe tbody tr th {\n",
       "        vertical-align: top;\n",
       "    }\n",
       "\n",
       "    .dataframe thead th {\n",
       "        text-align: right;\n",
       "    }\n",
       "</style>\n",
       "<table border=\"1\" class=\"dataframe\">\n",
       "  <thead>\n",
       "    <tr style=\"text-align: right;\">\n",
       "      <th></th>\n",
       "      <th>scheduleid</th>\n",
       "      <th>cycle</th>\n",
       "      <th>s_eng</th>\n",
       "      <th>d_eng</th>\n",
       "      <th>departure_time</th>\n",
       "      <th>arrival_time</th>\n",
       "    </tr>\n",
       "  </thead>\n",
       "  <tbody>\n",
       "    <tr>\n",
       "      <th>0</th>\n",
       "      <td>38</td>\n",
       "      <td>1</td>\n",
       "      <td>KINHAVALI</td>\n",
       "      <td>SHAHAPUR</td>\n",
       "      <td>1900-01-01 04:00:00</td>\n",
       "      <td>1900-01-01 05:15:00</td>\n",
       "    </tr>\n",
       "    <tr>\n",
       "      <th>1</th>\n",
       "      <td>9</td>\n",
       "      <td>1</td>\n",
       "      <td>SHAHAPUR</td>\n",
       "      <td>SHAHAPUR</td>\n",
       "      <td>1900-01-01 04:30:00</td>\n",
       "      <td>1900-01-01 05:00:00</td>\n",
       "    </tr>\n",
       "    <tr>\n",
       "      <th>2</th>\n",
       "      <td>18</td>\n",
       "      <td>1</td>\n",
       "      <td>MASAVANE</td>\n",
       "      <td>SHAHAPUR</td>\n",
       "      <td>1900-01-01 04:30:00</td>\n",
       "      <td>1900-01-01 11:50:00</td>\n",
       "    </tr>\n",
       "    <tr>\n",
       "      <th>3</th>\n",
       "      <td>21</td>\n",
       "      <td>1</td>\n",
       "      <td>BHIVANDI</td>\n",
       "      <td>SHAHAPUR</td>\n",
       "      <td>1900-01-01 04:30:00</td>\n",
       "      <td>1900-01-01 10:35:00</td>\n",
       "    </tr>\n",
       "    <tr>\n",
       "      <th>4</th>\n",
       "      <td>23</td>\n",
       "      <td>1</td>\n",
       "      <td>BHIVANDI</td>\n",
       "      <td>SHAHAPUR</td>\n",
       "      <td>1900-01-01 04:30:00</td>\n",
       "      <td>1900-01-01 11:40:00</td>\n",
       "    </tr>\n",
       "  </tbody>\n",
       "</table>\n",
       "</div>"
      ],
      "text/plain": [
       "   scheduleid  cycle      s_eng     d_eng      departure_time  \\\n",
       "0          38      1  KINHAVALI  SHAHAPUR 1900-01-01 04:00:00   \n",
       "1           9      1   SHAHAPUR  SHAHAPUR 1900-01-01 04:30:00   \n",
       "2          18      1   MASAVANE  SHAHAPUR 1900-01-01 04:30:00   \n",
       "3          21      1   BHIVANDI  SHAHAPUR 1900-01-01 04:30:00   \n",
       "4          23      1   BHIVANDI  SHAHAPUR 1900-01-01 04:30:00   \n",
       "\n",
       "         arrival_time  \n",
       "0 1900-01-01 05:15:00  \n",
       "1 1900-01-01 05:00:00  \n",
       "2 1900-01-01 11:50:00  \n",
       "3 1900-01-01 10:35:00  \n",
       "4 1900-01-01 11:40:00  "
      ]
     },
     "execution_count": 57,
     "metadata": {},
     "output_type": "execute_result"
    }
   ],
   "source": [
    "read_data.head()\n"
   ]
  },
  {
   "cell_type": "code",
   "execution_count": 58,
   "metadata": {},
   "outputs": [
    {
     "data": {
      "text/plain": [
       "scheduleid                 int64\n",
       "cycle                      int64\n",
       "s_eng                     object\n",
       "d_eng                     object\n",
       "departure_time    datetime64[ns]\n",
       "arrival_time      datetime64[ns]\n",
       "dtype: object"
      ]
     },
     "execution_count": 58,
     "metadata": {},
     "output_type": "execute_result"
    }
   ],
   "source": [
    "read_data.dtypes\n"
   ]
  },
  {
   "cell_type": "code",
   "execution_count": 47,
   "metadata": {},
   "outputs": [
    {
     "name": "stdout",
     "output_type": "stream",
     "text": [
      "   scheduleid  cycle      s_eng     d_eng        arrival_time  \\\n",
      "0          38      1  KINHAVALI  SHAHAPUR 1900-01-01 04:00:00   \n",
      "1           9      1   SHAHAPUR  SHAHAPUR 1900-01-01 04:30:00   \n",
      "2          18      1   MASAVANE  SHAHAPUR 1900-01-01 04:30:00   \n",
      "3          21      1   BHIVANDI  SHAHAPUR 1900-01-01 04:30:00   \n",
      "4          23      1   BHIVANDI  SHAHAPUR 1900-01-01 04:30:00   \n",
      "5          22      1     NASHIK  SHAHAPUR 1900-01-01 04:45:00   \n",
      "6          55      1      THANE  SHAHAPUR 1900-01-01 04:45:00   \n",
      "7          15      1   SHAHAPUR  SHAHAPUR 1900-01-01 05:00:00   \n",
      "8          33      1       MADH  SHAHAPUR 1900-01-01 05:00:00   \n",
      "\n",
      "       departure_time  \n",
      "0 1900-01-01 05:15:00  \n",
      "1 1900-01-01 05:00:00  \n",
      "2 1900-01-01 11:50:00  \n",
      "3 1900-01-01 10:35:00  \n",
      "4 1900-01-01 11:40:00  \n",
      "5 1900-01-01 11:00:00  \n",
      "6 1900-01-01 11:15:00  \n",
      "7 1900-01-01 06:50:00  \n",
      "8 1900-01-01 10:25:00  \n"
     ]
    }
   ],
   "source": [
    "print(read_data)"
   ]
  },
  {
   "cell_type": "code",
   "execution_count": 9,
   "metadata": {},
   "outputs": [
    {
     "name": "stdout",
     "output_type": "stream",
     "text": [
      "9\n"
     ]
    }
   ],
   "source": [
    "\"\"\"Do not run this code portion\"\"\"\n",
    "no_buses = 0\n",
    "#count the original number of buses from the starting times and routes\n",
    "for itr in read_data.index:\n",
    "    i=0\n",
    "    #if it is the first cycle, we will need that bus at all cost\n",
    "    if (read_data.iloc [i,1]):\n",
    "        no_buses = no_buses + 1\n",
    "print (no_buses)"
   ]
  },
  {
   "cell_type": "code",
   "execution_count": 10,
   "metadata": {},
   "outputs": [],
   "source": [
    "\n",
    "\"\"\"to find out the number of buses create a dictionary, with the bus number as the index and the end time as a reference\n",
    "that means\n",
    "no_buses {1: 4:00:00}\n",
    "where bus number is 1 and end time is 4:00:00\n",
    "the end time is updated after a new cycle is added to the same bus, \n",
    "i.e. the bus makes one more loop and comes back to the same startion\n",
    "The end time is updated to the end time of the new loop\"\"\"\n",
    "no_buses = {}\n",
    "\n",
    "#count the original number of buses from the starting times and routes\n",
    "for itr in read_data.index:\n",
    "    i=0\n",
    "    #if it is the first cycle, we will need that bus at all cost\n",
    "    \"\"\"Assigning the first ending point \"\"\"\n",
    "    if (i==0):\n",
    "        no_buses [i] = read_data.iloc [i,5]\n",
    "    #\"\"\"start counting the buses\"\"\"\n",
    "    #(later)keep the max time difference between two loops as 15 minutes\"\"\"\n",
    "    \n",
    "    else:\n",
    "        if (no_buses[i].time() < (read_data.iloc[i,4])):\n",
    "            print(i)\n",
    "            no_buses[i] = read_data.iloc [i,4]\n",
    "    \n",
    "    #elif (no_buses[i] > read_data.iloc [i,4]):\n",
    "        else:\n",
    "            i = i+1\n",
    "            no_buses[i] = read_data.iloc [i,4]\n",
    "#print (no_buses)"
   ]
  },
  {
   "cell_type": "code",
   "execution_count": 59,
   "metadata": {},
   "outputs": [
    {
     "ename": "TypeError",
     "evalue": "Cannot compare type 'Timestamp' with type 'str'",
     "output_type": "error",
     "traceback": [
      "\u001b[0;31m---------------------------------------------------------------------------\u001b[0m",
      "\u001b[0;31mTypeError\u001b[0m                                 Traceback (most recent call last)",
      "\u001b[0;32m<ipython-input-59-b4b2269f35f2>\u001b[0m in \u001b[0;36m<module>\u001b[0;34m()\u001b[0m\n\u001b[1;32m     20\u001b[0m     \u001b[0mi\u001b[0m\u001b[0;34m=\u001b[0m\u001b[0;36m1\u001b[0m\u001b[0;34m\u001b[0m\u001b[0m\n\u001b[1;32m     21\u001b[0m     \u001b[0;32mfor\u001b[0m \u001b[0mbus\u001b[0m \u001b[0;32min\u001b[0m \u001b[0mlist_of_buses\u001b[0m\u001b[0;34m:\u001b[0m\u001b[0;34m\u001b[0m\u001b[0m\n\u001b[0;32m---> 22\u001b[0;31m         \u001b[0;32mif\u001b[0m \u001b[0;34m(\u001b[0m\u001b[0mbus\u001b[0m\u001b[0;34m.\u001b[0m\u001b[0mend_time\u001b[0m \u001b[0;34m>\u001b[0m \u001b[0;34m(\u001b[0m\u001b[0mread_data\u001b[0m\u001b[0;34m.\u001b[0m\u001b[0miloc\u001b[0m\u001b[0;34m[\u001b[0m\u001b[0mitr\u001b[0m\u001b[0;34m,\u001b[0m\u001b[0;36m4\u001b[0m\u001b[0;34m]\u001b[0m\u001b[0;34m)\u001b[0m\u001b[0;34m)\u001b[0m\u001b[0;34m:\u001b[0m\u001b[0;34m\u001b[0m\u001b[0m\n\u001b[0m\u001b[1;32m     23\u001b[0m             \u001b[0mprint\u001b[0m\u001b[0;34m(\u001b[0m\u001b[0;34m'i'\u001b[0m\u001b[0;34m)\u001b[0m\u001b[0;34m\u001b[0m\u001b[0m\n\u001b[1;32m     24\u001b[0m             \u001b[0mi\u001b[0m \u001b[0;34m=\u001b[0m \u001b[0mi\u001b[0m\u001b[0;34m+\u001b[0m\u001b[0;36m1\u001b[0m\u001b[0;34m\u001b[0m\u001b[0m\n",
      "\u001b[0;32mpandas/_libs/tslibs/timestamps.pyx\u001b[0m in \u001b[0;36mpandas._libs.tslibs.timestamps._Timestamp.__richcmp__\u001b[0;34m()\u001b[0m\n",
      "\u001b[0;31mTypeError\u001b[0m: Cannot compare type 'Timestamp' with type 'str'"
     ]
    }
   ],
   "source": [
    "\n",
    "\"\"\"to find out the number of buses create a class, with the bus number as the index and the end time as a reference\n",
    "that means\n",
    "no_buses {1: 4:00:00}\n",
    "where bus number is 1 and end time is 4:00:00\n",
    "the end time is updated after a new cycle is added to the same bus, \n",
    "i.e. the bus makes one more loop and comes back to the same startion\n",
    "The end time is updated to the end time of the new loop\"\"\"\n",
    "\n",
    "checkpoint = 0\n",
    "#count the original number of buses from the starting times and routes\n",
    "for itr in read_data.index:\n",
    "    #print(itr)\n",
    "    #if it is the first cycle, we will need that bus at all cost\n",
    "    #\"\"\"start counting the buses\"\"\"\n",
    "    #(later)keep the max time difference between two loops as 15 minutes\"\"\"\n",
    "    #checkpoint is to check if there is some bus which arrives before new bus has to drive\n",
    "    checkpoint = 0\n",
    "    #i is 1 because we have already added a bus in the list, now we are going to add more buses\n",
    "    i=1\n",
    "    for bus in list_of_buses:\n",
    "        if (bus.end_time > (read_data.iloc[itr,4])):\n",
    "            print('i')\n",
    "            i = i+1\n",
    "            \n",
    "        else:\n",
    "            checkpoint = 1\n",
    "            print('x')\n",
    "            list_of_buses[i].list_of_loops.append(itr)\n",
    "            list_of_buses[i].end_time = read_data.iloc [i,5]\n",
    "            break\n",
    "    if (checkpoint == 0):\n",
    "        list_of_buses.append(Bus(i,read_data.iloc[itr,5]))\n",
    "            \n",
    "for bus in list_of_buses:\n",
    "    print(bus.bus_no,bus.end_time)\n",
    "    for bus_no in bus.list_of_loops:\n",
    "        print(bus_no)"
   ]
  },
  {
   "cell_type": "code",
   "execution_count": null,
   "metadata": {},
   "outputs": [],
   "source": []
  }
 ],
 "metadata": {
  "kernelspec": {
   "display_name": "Python 3",
   "language": "python",
   "name": "python3"
  },
  "language_info": {
   "codemirror_mode": {
    "name": "ipython",
    "version": 3
   },
   "file_extension": ".py",
   "mimetype": "text/x-python",
   "name": "python",
   "nbconvert_exporter": "python",
   "pygments_lexer": "ipython3",
   "version": "3.6.5"
  }
 },
 "nbformat": 4,
 "nbformat_minor": 2
}
