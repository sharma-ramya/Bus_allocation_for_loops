{
 "cells": [
  {
   "cell_type": "code",
   "execution_count": 1,
   "metadata": {},
   "outputs": [],
   "source": [
    "import pandas as pd\n",
    "import csv\n",
    "import time\n",
    "import datetime as dt\n",
    "import numpy as np"
   ]
  },
  {
   "cell_type": "code",
   "execution_count": 25,
   "metadata": {},
   "outputs": [],
   "source": [
    "read_data = pd.read_csv('~/Research/Milind_Sohni_Research/data/cycles_shpr_sample.csv', delimiter = ',')\n"
   ]
  },
  {
   "cell_type": "code",
   "execution_count": 26,
   "metadata": {},
   "outputs": [],
   "source": [
    "class Bus:\n",
    "    \"\"\"A class to define how many buses we need\n",
    "    bus_no defines the number of the bus being used\n",
    "    list_of_loops provides the index number of the loop\n",
    "    this bus will travel on\n",
    "    end_time provides the end time of the travel the bus \n",
    "    has done, i.e at what time bus will be free for another loop\"\"\"\n",
    "    \n",
    "    bus_no = 0\n",
    "    list_of_loops = []\n",
    "    end_time = dt.datetime(1900,1,1,0,0,0)\n",
    "    \n",
    "    def __init__(self, bus_no, end_time):\n",
    "        \"\"\"Initialize the bus_no and its end_time when you are declaring \n",
    "        a new bus is to be added to the system\"\"\"\n",
    "        self.bus_no = bus_no\n",
    "        self.end_time = end_time\n",
    "        "
   ]
  },
  {
   "cell_type": "code",
   "execution_count": 55,
   "metadata": {},
   "outputs": [
    {
     "name": "stdout",
     "output_type": "stream",
     "text": [
      "[<__main__.Bus object at 0x7fed164b2710>]\n"
     ]
    }
   ],
   "source": []
  },
  {
   "cell_type": "code",
   "execution_count": null,
   "metadata": {},
   "outputs": [],
   "source": []
  },
  {
   "cell_type": "code",
   "execution_count": 27,
   "metadata": {},
   "outputs": [],
   "source": [
    "#for converting a string object to time object so that it can be used for future refernces\n",
    "read_data['arrival_time']= pd.to_datetime(read_data['arrival_time'], format= '%H:%M:%S' )\n",
    "read_data['departure_time']= (pd.to_datetime(read_data['departure_time'], format= '%H:%M:%S' ))\n"
   ]
  },
  {
   "cell_type": "code",
   "execution_count": 28,
   "metadata": {},
   "outputs": [],
   "source": [
    "list_of_buses = []\n",
    "\n",
    "list_of_buses.append(Bus(0,read_data.iloc[0,5]))\n",
    "#adding 0 to the list of loops this bus is running on\n",
    "list_of_buses[0].list_of_loops.append(0)\n"
   ]
  },
  {
   "cell_type": "code",
   "execution_count": 8,
   "metadata": {},
   "outputs": [
    {
     "name": "stdout",
     "output_type": "stream",
     "text": [
      "1900-01-01 05:15:00\n"
     ]
    }
   ],
   "source": [
    "print (read_data.iloc[0,5] )"
   ]
  },
  {
   "cell_type": "code",
   "execution_count": 9,
   "metadata": {},
   "outputs": [
    {
     "name": "stdout",
     "output_type": "stream",
     "text": [
      "9\n"
     ]
    }
   ],
   "source": [
    "\"\"\"Do not run this code portion\"\"\"\n",
    "no_buses = 0\n",
    "#count the original number of buses from the starting times and routes\n",
    "for itr in read_data.index:\n",
    "    i=0\n",
    "    #if it is the first cycle, we will need that bus at all cost\n",
    "    if (read_data.iloc [i,1]):\n",
    "        no_buses = no_buses + 1\n",
    "print (no_buses)"
   ]
  },
  {
   "cell_type": "code",
   "execution_count": 23,
   "metadata": {},
   "outputs": [
    {
     "name": "stdout",
     "output_type": "stream",
     "text": [
      "0 1900-01-01 05:15:00\n",
      "0\n",
      "1\n",
      "1\n",
      "1\n",
      "1\n",
      "1\n",
      "1 1900-01-01 05:00:00\n",
      "0\n",
      "1\n",
      "1\n",
      "1\n",
      "1\n",
      "1\n",
      "1 1900-01-01 05:00:00\n",
      "0\n",
      "1\n",
      "1\n",
      "1\n",
      "1\n",
      "1\n",
      "1 1900-01-01 05:00:00\n",
      "0\n",
      "1\n",
      "1\n",
      "1\n",
      "1\n",
      "1\n",
      "1 1900-01-01 05:00:00\n",
      "0\n",
      "1\n",
      "1\n",
      "1\n",
      "1\n",
      "1\n",
      "1 1900-01-01 05:00:00\n",
      "0\n",
      "1\n",
      "1\n",
      "1\n",
      "1\n",
      "1\n"
     ]
    }
   ],
   "source": [
    "            \n",
    "for bus in list_of_buses:\n",
    "    print(bus.bus_no,bus.end_time)\n",
    "    for bus_no in bus.list_of_loops:\n",
    "        print(bus_no)"
   ]
  },
  {
   "cell_type": "code",
   "execution_count": null,
   "metadata": {},
   "outputs": [],
   "source": []
  },
  {
   "cell_type": "code",
   "execution_count": 12,
   "metadata": {},
   "outputs": [
    {
     "data": {
      "text/html": [
       "<div>\n",
       "<style scoped>\n",
       "    .dataframe tbody tr th:only-of-type {\n",
       "        vertical-align: middle;\n",
       "    }\n",
       "\n",
       "    .dataframe tbody tr th {\n",
       "        vertical-align: top;\n",
       "    }\n",
       "\n",
       "    .dataframe thead th {\n",
       "        text-align: right;\n",
       "    }\n",
       "</style>\n",
       "<table border=\"1\" class=\"dataframe\">\n",
       "  <thead>\n",
       "    <tr style=\"text-align: right;\">\n",
       "      <th></th>\n",
       "      <th>scheduleid</th>\n",
       "      <th>cycle</th>\n",
       "      <th>s_eng</th>\n",
       "      <th>d_eng</th>\n",
       "      <th>departure_time</th>\n",
       "      <th>arrival_time</th>\n",
       "    </tr>\n",
       "  </thead>\n",
       "  <tbody>\n",
       "    <tr>\n",
       "      <th>0</th>\n",
       "      <td>38</td>\n",
       "      <td>1</td>\n",
       "      <td>KINHAVALI</td>\n",
       "      <td>SHAHAPUR</td>\n",
       "      <td>1900-01-01 04:00:00</td>\n",
       "      <td>1900-01-01 05:15:00</td>\n",
       "    </tr>\n",
       "    <tr>\n",
       "      <th>1</th>\n",
       "      <td>9</td>\n",
       "      <td>1</td>\n",
       "      <td>SHAHAPUR</td>\n",
       "      <td>SHAHAPUR</td>\n",
       "      <td>1900-01-01 04:30:00</td>\n",
       "      <td>1900-01-01 05:00:00</td>\n",
       "    </tr>\n",
       "    <tr>\n",
       "      <th>2</th>\n",
       "      <td>18</td>\n",
       "      <td>1</td>\n",
       "      <td>MASAVANE</td>\n",
       "      <td>SHAHAPUR</td>\n",
       "      <td>1900-01-01 04:30:00</td>\n",
       "      <td>1900-01-01 11:50:00</td>\n",
       "    </tr>\n",
       "    <tr>\n",
       "      <th>3</th>\n",
       "      <td>21</td>\n",
       "      <td>1</td>\n",
       "      <td>BHIVANDI</td>\n",
       "      <td>SHAHAPUR</td>\n",
       "      <td>1900-01-01 04:30:00</td>\n",
       "      <td>1900-01-01 10:35:00</td>\n",
       "    </tr>\n",
       "    <tr>\n",
       "      <th>4</th>\n",
       "      <td>23</td>\n",
       "      <td>1</td>\n",
       "      <td>BHIVANDI</td>\n",
       "      <td>SHAHAPUR</td>\n",
       "      <td>1900-01-01 04:30:00</td>\n",
       "      <td>1900-01-01 11:40:00</td>\n",
       "    </tr>\n",
       "  </tbody>\n",
       "</table>\n",
       "</div>"
      ],
      "text/plain": [
       "   scheduleid  cycle      s_eng     d_eng      departure_time  \\\n",
       "0          38      1  KINHAVALI  SHAHAPUR 1900-01-01 04:00:00   \n",
       "1           9      1   SHAHAPUR  SHAHAPUR 1900-01-01 04:30:00   \n",
       "2          18      1   MASAVANE  SHAHAPUR 1900-01-01 04:30:00   \n",
       "3          21      1   BHIVANDI  SHAHAPUR 1900-01-01 04:30:00   \n",
       "4          23      1   BHIVANDI  SHAHAPUR 1900-01-01 04:30:00   \n",
       "\n",
       "         arrival_time  \n",
       "0 1900-01-01 05:15:00  \n",
       "1 1900-01-01 05:00:00  \n",
       "2 1900-01-01 11:50:00  \n",
       "3 1900-01-01 10:35:00  \n",
       "4 1900-01-01 11:40:00  "
      ]
     },
     "execution_count": 12,
     "metadata": {},
     "output_type": "execute_result"
    }
   ],
   "source": [
    "read_data.head()\n"
   ]
  },
  {
   "cell_type": "code",
   "execution_count": 58,
   "metadata": {},
   "outputs": [
    {
     "data": {
      "text/plain": [
       "scheduleid                 int64\n",
       "cycle                      int64\n",
       "s_eng                     object\n",
       "d_eng                     object\n",
       "departure_time    datetime64[ns]\n",
       "arrival_time      datetime64[ns]\n",
       "dtype: object"
      ]
     },
     "execution_count": 58,
     "metadata": {},
     "output_type": "execute_result"
    }
   ],
   "source": [
    "read_data.dtypes\n"
   ]
  }
 ],
 "metadata": {
  "kernelspec": {
   "display_name": "Python 3",
   "language": "python",
   "name": "python3"
  },
  "language_info": {
   "codemirror_mode": {
    "name": "ipython",
    "version": 3
   },
   "file_extension": ".py",
   "mimetype": "text/x-python",
   "name": "python",
   "nbconvert_exporter": "python",
   "pygments_lexer": "ipython3",
   "version": "3.6.5"
  }
 },
 "nbformat": 4,
 "nbformat_minor": 2
}
