{
 "cells": [
  {
   "cell_type": "code",
   "execution_count": 2,
   "metadata": {},
   "outputs": [],
   "source": [
    "import pandas as pd\n",
    "import csv\n",
    "import time\n",
    "import datetime as dt\n",
    "import numpy as np"
   ]
  },
  {
   "cell_type": "code",
   "execution_count": 14,
   "metadata": {},
   "outputs": [],
   "source": [
    "read_data = pd.read_csv('~/Research/Milind_Sohni_Research/data/cycles_shpr_sample.csv', delimiter = ',')\n"
   ]
  },
  {
   "cell_type": "code",
   "execution_count": 15,
   "metadata": {},
   "outputs": [],
   "source": [
    "class Bus:\n",
    "    \"\"\"A class to define how many buses we need\n",
    "    bus_no defines the number of the bus being used\n",
    "    list_of_loops provides the index number of the loop\n",
    "    this bus will travel on\n",
    "    end_time provides the end time of the travel the bus \n",
    "    has done, i.e at what time bus will be free for another loop\"\"\"\n",
    "    \n",
    "      \n",
    "    bus_no = 0\n",
    "    end_time = dt.datetime(1900,1,1,0,0,0)\n",
    "    \n",
    "    def __init__(self, bus_no, end_time):\n",
    "        \"\"\"Initialize the bus_no and its end_time when you are declaring \n",
    "        a new bus is to be added to the system\n",
    "        a new list, list_of_loops is added here because a list declared with bus_no\n",
    "        will result in that list being shared with all the class objects, hence we \n",
    "        seperaly declare list_of_loops in constructor of the class, which localises it\"\"\"\n",
    "        self.bus_no = bus_no\n",
    "        self.end_time = end_time\n",
    "        self.list_of_loops = []\n",
    "    \n",
    "    def add_a_loop_to_list_of_loops_of_a_bus(self, loop_no):\n",
    "        \"\"\" To add a new loop to the list of loops already travelled by that bus\"\"\"\n",
    "        self.list_of_loops.append(loop_no)\n",
    "        "
   ]
  },
  {
   "cell_type": "code",
   "execution_count": 16,
   "metadata": {},
   "outputs": [],
   "source": [
    "#for converting a string object to time object so that it can be used for future refernces\n",
    "read_data['arrival_time']= pd.to_datetime(read_data['arrival_time'], format= '%H:%M:%S' )\n",
    "read_data['departure_time']= (pd.to_datetime(read_data['departure_time'], format= '%H:%M:%S' ))\n"
   ]
  },
  {
   "cell_type": "code",
   "execution_count": 17,
   "metadata": {},
   "outputs": [],
   "source": [
    "\"\"\"Declaring a list_of_buses with a list of Bus class objects\n",
    "All the operations will be performed on this list of buses\"\"\"\n",
    "list_of_buses = []\n",
    "\n",
    "#Initialize the list_of_buses with the first route information so that comparisions can be done\n",
    "list_of_buses.append(Bus(0,read_data.iloc[0,5]))\n",
    "#adding loop 0 to the list of loops this bus is running on\n",
    "list_of_buses[-1].add_a_loop_to_list_of_loops_of_a_bus(0)\n"
   ]
  },
  {
   "cell_type": "code",
   "execution_count": 18,
   "metadata": {},
   "outputs": [
    {
     "name": "stdout",
     "output_type": "stream",
     "text": [
      "0 1900-01-01 05:15:00\n",
      "Bus number= 0\n"
     ]
    }
   ],
   "source": [
    "#Printing out all the buses currently on the route\n",
    "for bus in list_of_buses:\n",
    "    print(bus.bus_no,bus.end_time)\n",
    "    for bus_no in bus.list_of_loops:\n",
    "        print('Loop number=', bus_no)"
   ]
  },
  {
   "cell_type": "code",
   "execution_count": 19,
   "metadata": {},
   "outputs": [
    {
     "name": "stdout",
     "output_type": "stream",
     "text": [
      "0\n",
      "else arrival time = 1900-01-01 04:30:00\n",
      "False\n",
      "appending new bus with end time 1900-01-01 05:00:00\n",
      "Checking when a new bus is added [1]\n",
      "\n",
      "\n",
      "Checking when condition is true [0, 2]\n",
      "\n",
      "Bus end time= 1900-01-01 10:00:00\n",
      "\n",
      "\n",
      "else arrival time = 1900-01-01 05:30:00\n",
      "False\n",
      "Checking when condition is true [1, 3]\n",
      "\n",
      "Bus end time= 1900-01-01 07:05:00\n",
      "\n",
      "\n",
      "else arrival time = 1900-01-01 05:30:00\n",
      "False\n",
      "else arrival time = 1900-01-01 05:30:00\n",
      "False\n",
      "appending new bus with end time 1900-01-01 11:45:00\n",
      "Checking when a new bus is added [4]\n",
      "\n",
      "\n"
     ]
    }
   ],
   "source": [
    "\"\"\"\n",
    "Checkpoint is declared so that we can traverse through \n",
    "all the buses to ensure that there is no bus which can \n",
    "acomodate the current loop bus_no counts the number of buses\n",
    "we currently have.\n",
    "\n",
    "First a single loop is selected(for i in read_data.index), \n",
    "then this loop is compared with all the current buses in the system\n",
    "(for bus in list_of_buses).\n",
    "\n",
    "If there is a bus which completes its loop before the current bus \n",
    "(if(read_data.iloc[i,4] >= bus.end_time and i != 0)) and is not \n",
    "the first bus, the bus is sent out on this route making the new \n",
    "loop's end time as this bus's end time and this loop is \n",
    "added to the list of loops of this bus. Checkpoint is made 0 to \n",
    "inform that this loop does not need a new bus.\n",
    "\n",
    "After the (for bus in list_of_buses), we check if the checkpoint is 1\n",
    "or not. If it is 1, it means that we need to add a new bus to this loop\n",
    "as no other bus had compatible time for this loop.\n",
    "\"\"\"\n",
    "\n",
    "checkpoint = 0\n",
    "#to keep track of number of buses needed\n",
    "bus_no =0\n",
    "for i in read_data.index:\n",
    "    \n",
    "    for bus in list_of_buses:\n",
    "        #print(read_data.iloc[i,4] >= bus.end_time)\n",
    "        #if the departure time of this loop is greater than the end time of the bus\n",
    "        if(read_data.iloc[i,4] >= bus.end_time and i != 0):\n",
    "            #increase bus end time to loop's end time\n",
    "            bus.end_time = read_data.iloc[i,5]\n",
    "            bus.add_a_loop_to_list_of_loops_of_a_bus(i)\n",
    "            print(\"Checking when condition is true\", bus.list_of_loops)\n",
    "            \n",
    "            #to inform that this loop does not need a new bus\n",
    "            checkpoint = 0\n",
    "            print('\\nBus end time=', bus.end_time)\n",
    "            print(\"\\n\")\n",
    "            #no other buses are checked\n",
    "            break\n",
    "        #to check if this is not the first route, which has already been allocated a bus\n",
    "        elif (i == 0):\n",
    "            print('0')\n",
    "            continue\n",
    "        else:\n",
    "            #informing that this loop might need a new bus\n",
    "            print(\"else arrival time =\", read_data.iloc[i,4])\n",
    "            checkpoint = 1\n",
    "        \n",
    "        print(read_data.iloc[i,4] >= bus.end_time)\n",
    "        \n",
    "    #no bus was found compatible to this loop, a new bus needs to be added    \n",
    "    if (checkpoint == 1):\n",
    "        bus_no = bus_no + 1\n",
    "        list_of_buses.append(Bus(bus_no,read_data.iloc[i,5]))\n",
    "        print(\"appending new bus with end time\", list_of_buses[-1].end_time)\n",
    "        list_of_buses[-1].add_a_loop_to_list_of_loops_of_a_bus(i)\n",
    "        print(\"Checking when a new bus is added\", list_of_buses[-1].list_of_loops)\n",
    "        print(\"\\n\")\n"
   ]
  },
  {
   "cell_type": "code",
   "execution_count": 20,
   "metadata": {},
   "outputs": [
    {
     "name": "stdout",
     "output_type": "stream",
     "text": [
      "0 1900-01-01 10:00:00\n",
      "Bus number= 0\n",
      "Bus number= 2\n",
      "1 1900-01-01 07:05:00\n",
      "Bus number= 1\n",
      "Bus number= 3\n",
      "2 1900-01-01 11:45:00\n",
      "Bus number= 4\n"
     ]
    }
   ],
   "source": [
    "for bus in list_of_buses:\n",
    "    print(bus.bus_no,bus.end_time)\n",
    "    for bus_no in bus.list_of_loops:\n",
    "        print('Bus number=', bus_no)"
   ]
  },
  {
   "cell_type": "code",
   "execution_count": 80,
   "metadata": {},
   "outputs": [],
   "source": []
  },
  {
   "cell_type": "code",
   "execution_count": null,
   "metadata": {},
   "outputs": [],
   "source": []
  }
 ],
 "metadata": {
  "kernelspec": {
   "display_name": "Python 3",
   "language": "python",
   "name": "python3"
  },
  "language_info": {
   "codemirror_mode": {
    "name": "ipython",
    "version": 3
   },
   "file_extension": ".py",
   "mimetype": "text/x-python",
   "name": "python",
   "nbconvert_exporter": "python",
   "pygments_lexer": "ipython3",
   "version": "3.6.5"
  }
 },
 "nbformat": 4,
 "nbformat_minor": 2
}
